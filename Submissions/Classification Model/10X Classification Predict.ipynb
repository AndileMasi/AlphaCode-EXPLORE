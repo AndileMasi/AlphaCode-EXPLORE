{
 "cells": [
  {
   "cell_type": "code",
   "execution_count": 1,
   "metadata": {},
   "outputs": [],
   "source": [
    "# import warnings\n",
    "\n",
    "import warnings\n",
    "warnings.simplefilter(action = 'ignore', category=FutureWarning)\n",
    "warnings.filterwarnings('ignore')\n",
    "def ignore_warn(*args, **kwargs):\n",
    "    pass\n",
    "warnings.warn = ignore_warn #ignore annoying warning (from sklearn and seaborn)"
   ]
  },
  {
   "cell_type": "code",
   "execution_count": 54,
   "metadata": {},
   "outputs": [],
   "source": [
    "#import sqlalchemy so that we can connect to data in the db\n",
    "import sqlalchemy as sa\n",
    "import pandas as pd\n",
    "from sqlalchemy import create_engine\n",
    "\n",
    "\n",
    "Username = 'admin'\n",
    "Password = 'amazing_people'\n",
    "Host = 'alphacode-explore.ccwgqdqrrmvt.eu-west-1.rds.amazonaws.com'\n",
    "Port = '1433'\n",
    "Database = 'Andile'\n",
    "\n",
    "connection = create_engine(\n",
    "    'mssql+pymssql://' +\n",
    "    Username + ':' + Password + '@' + Host + ':' + Port + '/' + Database\n",
    ")\n"
   ]
  },
  {
   "cell_type": "code",
   "execution_count": 2,
   "metadata": {},
   "outputs": [],
   "source": [
    "#Base packages\n",
    "\n",
    "import numpy as np\n",
    "import pandas as pd"
   ]
  },
  {
   "cell_type": "code",
   "execution_count": 3,
   "metadata": {},
   "outputs": [],
   "source": [
    "#Scoring package\n",
    "from sklearn.metrics import classification_report"
   ]
  },
  {
   "cell_type": "code",
   "execution_count": 4,
   "metadata": {},
   "outputs": [],
   "source": [
    "#Visualisation packages\n",
    "\n",
    "pd.set_option('display.float_format', lambda x: '{:.3f}'.format(x)) #Limiting floats output to 3 decimal points\n",
    "from matplotlib import pyplot as plt\n",
    "%matplotlib inline\n",
    "import seaborn as sns\n",
    "sns.set(style=\"ticks\", color_codes=True, font_scale=1.5)\n",
    "color = sns.color_palette()\n",
    "sns.set_style('darkgrid')\n",
    "import mpl_toolkits\n",
    "from mpl_toolkits.mplot3d import Axes3D\n",
    "import pylab \n",
    "import datetime"
   ]
  },
  {
   "cell_type": "code",
   "execution_count": 5,
   "metadata": {},
   "outputs": [],
   "source": [
    "# Function is to look at the data on the dataframe as quick one-shot\n",
    "\n",
    "def stats(df, pred=None): \n",
    "    obs = df.shape[0]\n",
    "    types = df.dtypes\n",
    "    counts = df.apply(lambda x: x.count())\n",
    "    uniques = df.apply(lambda x: [x.unique()])\n",
    "    nulls = df.apply(lambda x: x.isnull().sum())\n",
    "    distincts = df.apply(lambda x: x.unique().shape[0])\n",
    "    missing_ration = (df.isnull().sum()/ obs) * 100\n",
    "    skewness = df.skew()\n",
    "    kurtosis = df.kurt() \n",
    "    print('Data shape:', df.shape)\n",
    "    \n",
    "    if pred is None:\n",
    "        cols = ['types', 'counts', 'distincts', 'nulls', 'missing ration', 'uniques', 'skewness', 'kurtosis']\n",
    "        str = pd.concat([types, counts, distincts, nulls, missing_ration, uniques, skewness, kurtosis], axis = 1)\n",
    "\n",
    "    else:\n",
    "        corr = df.corr()[pred]\n",
    "        str = pd.concat([types, counts, distincts, nulls, missing_ration, uniques, skewness, kurtosis, corr], axis = 1, sort=False)\n",
    "        corr_col = 'corr '  + pred\n",
    "        cols = ['types', 'counts', 'distincts', 'nulls', 'missing_ration', 'uniques', 'skewness', 'kurtosis', corr_col ]\n",
    "    \n",
    "    str.columns = cols\n",
    "    dtypes = str.types.value_counts()\n",
    "    print('___________________________\\nData types:\\n',str.types.value_counts())\n",
    "    print('___________________________')\n",
    "    return str"
   ]
  },
  {
   "cell_type": "code",
   "execution_count": 6,
   "metadata": {},
   "outputs": [],
   "source": [
    "def now():\n",
    "    tmp = datetime.datetime.now().strftime(\"%Y-%m-%d %H:%M:%S\")\n",
    "    return tmp\n",
    "\n",
    "def my_file_read(file):\n",
    "    df = pd.read_csv(file)\n",
    "    print(\"{}: {} has {} observations and {} columns\".format(now(), file, df.shape[0], df.shape[1]))\n",
    "    print(\"{}: Column name checking::: {}\".format(now(), df.columns.tolist()))\n",
    "    return df\n",
    "\n",
    "# Self-defined function to read dataframe and find the missing data on the columns and # of missing\n",
    "def checking_na(df):\n",
    "    try:\n",
    "        if (isinstance(df, pd.DataFrame)):\n",
    "            df_na_bool = pd.concat([df.isnull().any(), df.isnull().sum(), (df.isnull().sum()/df.shape[0])*100],\n",
    "                                   axis=1, keys=['df_bool', 'df_amt', 'missing_ratio_percent'])\n",
    "            df_na_bool = df_na_bool.loc[df_na_bool['df_bool'] == True]\n",
    "            return df_na_bool\n",
    "        else:\n",
    "            print(\"{}: The input is not panda DataFrame\".format(now()))\n",
    "\n",
    "    except (UnboundLocalError, RuntimeError):\n",
    "        print(\"{}: Something is wrong\".format(now()))"
   ]
  },
  {
   "cell_type": "code",
   "execution_count": 70,
   "metadata": {},
   "outputs": [
    {
     "name": "stdout",
     "output_type": "stream",
     "text": [
      "<class 'pandas.core.frame.DataFrame'>\n",
      "Int64Index: 1638 entries, 0 to 299\n",
      "Data columns (total 10 columns):\n",
      "age                1638 non-null int64\n",
      "bmi                1638 non-null object\n",
      "children           1638 non-null object\n",
      "claim_amount       1338 non-null object\n",
      "insurance_claim    1338 non-null object\n",
      "region             1638 non-null object\n",
      "row_id             300 non-null object\n",
      "sex                1638 non-null object\n",
      "smoker             1638 non-null object\n",
      "steps              1638 non-null int64\n",
      "dtypes: int64(2), object(8)\n",
      "memory usage: 140.8+ KB\n"
     ]
    }
   ],
   "source": [
    "# import data to perform preprocessing on it.\n",
    "\n",
    "# Importing train  data from the db\n",
    "sql_query1 = \"Select * from claims_data\"\n",
    "raw_data = pd.read_sql_query(sql_query1, connection)\n",
    "\n",
    "# Importing test data from the db\n",
    "sql_query2 = \"Select * from test_data\"\n",
    "predictor = pd.read_sql_query(sql_query2, connection)\n",
    "\n",
    "#Combine data frames to clean both the same way \n",
    "combine_df = [raw_data, predictor]\n",
    "df = pd.concat(combine_df)\n",
    "df.info()"
   ]
  },
  {
   "cell_type": "code",
   "execution_count": 72,
   "metadata": {},
   "outputs": [
    {
     "name": "stdout",
     "output_type": "stream",
     "text": [
      "<class 'pandas.core.frame.DataFrame'>\n",
      "Int64Index: 1638 entries, 0 to 299\n",
      "Data columns (total 10 columns):\n",
      "age                1638 non-null int64\n",
      "bmi                1638 non-null float64\n",
      "children           1638 non-null object\n",
      "claim_amount       1338 non-null float64\n",
      "insurance_claim    1338 non-null object\n",
      "region             1638 non-null object\n",
      "row_id             300 non-null object\n",
      "sex                1638 non-null object\n",
      "smoker             1638 non-null object\n",
      "steps              1638 non-null int64\n",
      "dtypes: float64(2), int64(2), object(6)\n",
      "memory usage: 140.8+ KB\n",
      "<class 'pandas.core.frame.DataFrame'>\n",
      "Int64Index: 1638 entries, 0 to 299\n",
      "Data columns (total 10 columns):\n",
      "age                1638 non-null int64\n",
      "bmi                1638 non-null float64\n",
      "children           1638 non-null object\n",
      "claim_amount       1338 non-null float64\n",
      "insurance_claim    1338 non-null object\n",
      "region             1638 non-null object\n",
      "row_id             300 non-null object\n",
      "sex                1638 non-null object\n",
      "smoker             1638 non-null object\n",
      "steps              1638 non-null int64\n",
      "dtypes: float64(2), int64(2), object(6)\n",
      "memory usage: 140.8+ KB\n"
     ]
    }
   ],
   "source": [
    "df['bmi'] = pd.to_numeric(df['bmi'])\n",
    "df['claim_amount'] = pd.to_numeric(df['claim_amount'])\n",
    "df.info()\n",
    "raw_data['bmi'] = pd.to_numeric(raw_data['bmi'])\n",
    "raw_data['claim_amount'] = pd.to_numeric(raw_data['claim_amount'])\n",
    "predictor['bmi'] = pd.to_numeric(predictor['bmi'])\n",
    "df.info()"
   ]
  },
  {
   "cell_type": "code",
   "execution_count": 73,
   "metadata": {},
   "outputs": [
    {
     "name": "stdout",
     "output_type": "stream",
     "text": [
      "Data shape: (1338, 9)\n",
      "___________________________\n",
      "Data types:\n",
      " object     5\n",
      "float64    2\n",
      "int64      2\n",
      "Name: types, dtype: int64\n",
      "___________________________\n"
     ]
    },
    {
     "data": {
      "text/html": [
       "<div>\n",
       "<style scoped>\n",
       "    .dataframe tbody tr th:only-of-type {\n",
       "        vertical-align: middle;\n",
       "    }\n",
       "\n",
       "    .dataframe tbody tr th {\n",
       "        vertical-align: top;\n",
       "    }\n",
       "\n",
       "    .dataframe thead th {\n",
       "        text-align: right;\n",
       "    }\n",
       "</style>\n",
       "<table border=\"1\" class=\"dataframe\">\n",
       "  <thead>\n",
       "    <tr style=\"text-align: right;\">\n",
       "      <th></th>\n",
       "      <th>types</th>\n",
       "      <th>counts</th>\n",
       "      <th>distincts</th>\n",
       "      <th>nulls</th>\n",
       "      <th>missing_ration</th>\n",
       "      <th>uniques</th>\n",
       "      <th>skewness</th>\n",
       "      <th>kurtosis</th>\n",
       "      <th>corr claim_amount</th>\n",
       "    </tr>\n",
       "  </thead>\n",
       "  <tbody>\n",
       "    <tr>\n",
       "      <th>claim_amount</th>\n",
       "      <td>float64</td>\n",
       "      <td>1338</td>\n",
       "      <td>783</td>\n",
       "      <td>0</td>\n",
       "      <td>0.000</td>\n",
       "      <td>[[16884.924, 1725.5523, 0.0, 3866.8552, 8240.5...</td>\n",
       "      <td>1.580</td>\n",
       "      <td>1.596</td>\n",
       "      <td>1.000</td>\n",
       "    </tr>\n",
       "    <tr>\n",
       "      <th>bmi</th>\n",
       "      <td>float64</td>\n",
       "      <td>1338</td>\n",
       "      <td>548</td>\n",
       "      <td>0</td>\n",
       "      <td>0.000</td>\n",
       "      <td>[[27.9, 33.77, 33.0, 22.705, 28.88, 25.74, 33....</td>\n",
       "      <td>0.284</td>\n",
       "      <td>-0.051</td>\n",
       "      <td>0.293</td>\n",
       "    </tr>\n",
       "    <tr>\n",
       "      <th>age</th>\n",
       "      <td>int64</td>\n",
       "      <td>1338</td>\n",
       "      <td>47</td>\n",
       "      <td>0</td>\n",
       "      <td>0.000</td>\n",
       "      <td>[[19, 18, 28, 33, 32, 31, 46, 37, 60, 25, 62, ...</td>\n",
       "      <td>0.056</td>\n",
       "      <td>-1.245</td>\n",
       "      <td>0.219</td>\n",
       "    </tr>\n",
       "    <tr>\n",
       "      <th>steps</th>\n",
       "      <td>int64</td>\n",
       "      <td>1338</td>\n",
       "      <td>55</td>\n",
       "      <td>0</td>\n",
       "      <td>0.000</td>\n",
       "      <td>[[3009, 3008, 10009, 8010, 8005, 3002, 8007, 8...</td>\n",
       "      <td>0.662</td>\n",
       "      <td>-1.149</td>\n",
       "      <td>-0.347</td>\n",
       "    </tr>\n",
       "    <tr>\n",
       "      <th>sex</th>\n",
       "      <td>object</td>\n",
       "      <td>1338</td>\n",
       "      <td>2</td>\n",
       "      <td>0</td>\n",
       "      <td>0.000</td>\n",
       "      <td>[[female, male]]</td>\n",
       "      <td>nan</td>\n",
       "      <td>nan</td>\n",
       "      <td>nan</td>\n",
       "    </tr>\n",
       "    <tr>\n",
       "      <th>children</th>\n",
       "      <td>object</td>\n",
       "      <td>1338</td>\n",
       "      <td>6</td>\n",
       "      <td>0</td>\n",
       "      <td>0.000</td>\n",
       "      <td>[[0, 1, 3, 2, 5, 4]]</td>\n",
       "      <td>0.938</td>\n",
       "      <td>0.202</td>\n",
       "      <td>nan</td>\n",
       "    </tr>\n",
       "    <tr>\n",
       "      <th>smoker</th>\n",
       "      <td>object</td>\n",
       "      <td>1338</td>\n",
       "      <td>2</td>\n",
       "      <td>0</td>\n",
       "      <td>0.000</td>\n",
       "      <td>[[yes, no]]</td>\n",
       "      <td>nan</td>\n",
       "      <td>nan</td>\n",
       "      <td>nan</td>\n",
       "    </tr>\n",
       "    <tr>\n",
       "      <th>region</th>\n",
       "      <td>object</td>\n",
       "      <td>1338</td>\n",
       "      <td>4</td>\n",
       "      <td>0</td>\n",
       "      <td>0.000</td>\n",
       "      <td>[[southwest, southeast, northwest, northeast]]</td>\n",
       "      <td>nan</td>\n",
       "      <td>nan</td>\n",
       "      <td>nan</td>\n",
       "    </tr>\n",
       "    <tr>\n",
       "      <th>insurance_claim</th>\n",
       "      <td>object</td>\n",
       "      <td>1338</td>\n",
       "      <td>2</td>\n",
       "      <td>0</td>\n",
       "      <td>0.000</td>\n",
       "      <td>[[yes, no]]</td>\n",
       "      <td>nan</td>\n",
       "      <td>nan</td>\n",
       "      <td>nan</td>\n",
       "    </tr>\n",
       "  </tbody>\n",
       "</table>\n",
       "</div>"
      ],
      "text/plain": [
       "                   types  counts  distincts  nulls  missing_ration  \\\n",
       "claim_amount     float64    1338        783      0           0.000   \n",
       "bmi              float64    1338        548      0           0.000   \n",
       "age                int64    1338         47      0           0.000   \n",
       "steps              int64    1338         55      0           0.000   \n",
       "sex               object    1338          2      0           0.000   \n",
       "children          object    1338          6      0           0.000   \n",
       "smoker            object    1338          2      0           0.000   \n",
       "region            object    1338          4      0           0.000   \n",
       "insurance_claim   object    1338          2      0           0.000   \n",
       "\n",
       "                                                           uniques  skewness  \\\n",
       "claim_amount     [[16884.924, 1725.5523, 0.0, 3866.8552, 8240.5...     1.580   \n",
       "bmi              [[27.9, 33.77, 33.0, 22.705, 28.88, 25.74, 33....     0.284   \n",
       "age              [[19, 18, 28, 33, 32, 31, 46, 37, 60, 25, 62, ...     0.056   \n",
       "steps            [[3009, 3008, 10009, 8010, 8005, 3002, 8007, 8...     0.662   \n",
       "sex                                               [[female, male]]       nan   \n",
       "children                                      [[0, 1, 3, 2, 5, 4]]     0.938   \n",
       "smoker                                                 [[yes, no]]       nan   \n",
       "region              [[southwest, southeast, northwest, northeast]]       nan   \n",
       "insurance_claim                                        [[yes, no]]       nan   \n",
       "\n",
       "                 kurtosis  corr claim_amount  \n",
       "claim_amount        1.596              1.000  \n",
       "bmi                -0.051              0.293  \n",
       "age                -1.245              0.219  \n",
       "steps              -1.149             -0.347  \n",
       "sex                   nan                nan  \n",
       "children            0.202                nan  \n",
       "smoker                nan                nan  \n",
       "region                nan                nan  \n",
       "insurance_claim       nan                nan  "
      ]
     },
     "metadata": {},
     "output_type": "display_data"
    }
   ],
   "source": [
    "details = stats(raw_data, 'claim_amount')\n",
    "display(details.sort_values(by='corr claim_amount', ascending=False))"
   ]
  },
  {
   "cell_type": "code",
   "execution_count": 74,
   "metadata": {},
   "outputs": [
    {
     "name": "stdout",
     "output_type": "stream",
     "text": [
      "Empty DataFrame\n",
      "Columns: [df_bool, df_amt, missing_ratio_percent]\n",
      "Index: []\n"
     ]
    }
   ],
   "source": [
    "print(checking_na(predictor))"
   ]
  },
  {
   "cell_type": "code",
   "execution_count": 75,
   "metadata": {},
   "outputs": [
    {
     "name": "stdout",
     "output_type": "stream",
     "text": [
      "   age     sex    bmi  steps children smoker     region insurance_claim  \\\n",
      "0   19  female 27.900   3009        0    yes  southwest             yes   \n",
      "1   18    male 33.770   3008        1     no  southeast             yes   \n",
      "2   28    male 33.000   3009        3     no  southeast              no   \n",
      "3   33    male 22.705  10009        0     no  northwest              no   \n",
      "4   32    male 28.880   8010        0     no  northwest             yes   \n",
      "\n",
      "   claim_amount  \n",
      "0     16884.924  \n",
      "1      1725.552  \n",
      "2         0.000  \n",
      "3         0.000  \n",
      "4      3866.855  \n",
      "           age      bmi     steps  claim_amount\n",
      "count 1338.000 1338.000  1338.000      1338.000\n",
      "mean    39.207   30.663  5328.623      9611.312\n",
      "std     14.050    6.098  2453.643     13450.624\n",
      "min     18.000   15.960  3000.000         0.000\n",
      "25%     27.000   26.296  3008.000         0.000\n",
      "50%     39.000   30.400  4007.000      2748.484\n",
      "75%     51.000   34.694  8004.000     13045.980\n",
      "max     64.000   53.130 10010.000     63770.428\n",
      "<class 'pandas.core.frame.DataFrame'>\n",
      "RangeIndex: 1338 entries, 0 to 1337\n",
      "Data columns (total 9 columns):\n",
      "age                1338 non-null int64\n",
      "sex                1338 non-null object\n",
      "bmi                1338 non-null float64\n",
      "steps              1338 non-null int64\n",
      "children           1338 non-null object\n",
      "smoker             1338 non-null object\n",
      "region             1338 non-null object\n",
      "insurance_claim    1338 non-null object\n",
      "claim_amount       1338 non-null float64\n",
      "dtypes: float64(2), int64(2), object(5)\n",
      "memory usage: 94.2+ KB\n",
      "None\n"
     ]
    }
   ],
   "source": [
    "print(raw_data.head(5))\n",
    "print(raw_data.describe())\n",
    "print(raw_data.info())"
   ]
  },
  {
   "cell_type": "code",
   "execution_count": 76,
   "metadata": {},
   "outputs": [
    {
     "name": "stdout",
     "output_type": "stream",
     "text": [
      "yes    783\n",
      "no     555\n",
      "Name: insurance_claim, dtype: int64\n"
     ]
    },
    {
     "data": {
      "image/png": "[encoded data removed]",
      "text/plain": [
       "<Figure size 576x576 with 1 Axes>"
      ]
     },
     "metadata": {
      "needs_background": "light"
     },
     "output_type": "display_data"
    }
   ],
   "source": [
    "print(raw_data.insurance_claim.value_counts())\n",
    "\n",
    "f, ax = plt.subplots(1, 1, figsize=(8, 8))\n",
    "raw_data.insurance_claim.value_counts().plot(kind='bar', title=\"insurance_claim\", ax=ax, figsize=(8,8))\n",
    "plt.show()"
   ]
  },
  {
   "cell_type": "code",
   "execution_count": 77,
   "metadata": {},
   "outputs": [
    {
     "data": {
      "image/png": "[encoded data removed]",
      "text/plain": [
       "<Figure size 432x288 with 1 Axes>"
      ]
     },
     "metadata": {
      "needs_background": "light"
     },
     "output_type": "display_data"
    }
   ],
   "source": [
    "ax = raw_data.groupby(['smoker', 'insurance_claim']).size().plot(kind='bar')\n",
    "ax.set_title(\"# of smokers who made claims\")\n",
    "ax.set_xlabel(\"(smoker, insurance_claim)\")\n",
    "ax.set_ylabel(\"Count of claims\")\n",
    "for p in ax.patches:\n",
    "    ax.annotate(str(format(int(p.get_height()), ',d')), (p.get_x(), p.get_height()*1.01))"
   ]
  },
  {
   "cell_type": "code",
   "execution_count": 78,
   "metadata": {},
   "outputs": [
    {
     "name": "stdout",
     "output_type": "stream",
     "text": [
      "   age    bmi children  claim_amount insurance_claim     region row_id  \\\n",
      "0   19 27.900        0     16884.924             yes  southwest    NaN   \n",
      "1   18 33.770        1      1725.552             yes  southeast    NaN   \n",
      "2   28 33.000        3         0.000              no  southeast    NaN   \n",
      "3   33 22.705        0         0.000              no  northwest    NaN   \n",
      "4   32 28.880        0      3866.855             yes  northwest    NaN   \n",
      "\n",
      "      sex smoker  steps  \n",
      "0  female    yes   3009  \n",
      "1    male     no   3008  \n",
      "2    male     no   3009  \n",
      "3    male     no  10009  \n",
      "4    male     no   8010  \n"
     ]
    },
    {
     "data": {
      "image/png": "[encoded data removed]",
      "text/plain": [
       "<Figure size 2880x1440 with 1 Axes>"
      ]
     },
     "metadata": {
      "needs_background": "light"
     },
     "output_type": "display_data"
    }
   ],
   "source": [
    "plt.figure(figsize=(40,20))\n",
    "plt.xticks(fontsize=24, rotation=0)\n",
    "plt.yticks(fontsize=24, rotation=0)\n",
    "sns.countplot(data=df, x='insurance_claim')\n",
    "print(df.head())"
   ]
  },
  {
   "cell_type": "code",
   "execution_count": 120,
   "metadata": {},
   "outputs": [
    {
     "name": "stdout",
     "output_type": "stream",
     "text": [
      "Gender types ['male' 'female']\n"
     ]
    },
    {
     "data": {
      "text/plain": [
       "<matplotlib.axes._subplots.AxesSubplot at 0x2aa3da1ff28>"
      ]
     },
     "execution_count": 120,
     "metadata": {},
     "output_type": "execute_result"
    },
    {
     "data": {
      "image/png": "[encoded data removed]",
      "text/plain": [
       "<Figure size 432x288 with 1 Axes>"
      ]
     },
     "metadata": {
      "needs_background": "light"
     },
     "output_type": "display_data"
    }
   ],
   "source": [
    "dist = df['sex'].value_counts()\n",
    "dist\n",
    "\n",
    "groups = df.groupby(\"sex\").count()\n",
    "groups.sort_values(\"insurance_claim\", ascending=False, inplace=True)\n",
    "print (\"Gender types\", groups.index.values)\n",
    "\n",
    "#Priors used below for Random Guessing Estimation\n",
    "priors = groups[\"insurance_claim\"] / groups[\"insurance_claim\"].sum()\n",
    "groups[\"insurance_claim\"].plot(kind=\"bar\", title=\"Number of claims per gender type\")"
   ]
  },
  {
   "cell_type": "code",
   "execution_count": 119,
   "metadata": {},
   "outputs": [
    {
     "name": "stdout",
     "output_type": "stream",
     "text": [
      "Regions ['southeast' 'northwest' 'southwest' 'northeast']\n"
     ]
    },
    {
     "data": {
      "text/plain": [
       "<matplotlib.axes._subplots.AxesSubplot at 0x2aa3d855048>"
      ]
     },
     "execution_count": 119,
     "metadata": {},
     "output_type": "execute_result"
    },
    {
     "data": {
      "image/png": "[encoded data removed]",
      "text/plain": [
       "<Figure size 432x288 with 1 Axes>"
      ]
     },
     "metadata": {
      "needs_background": "light"
     },
     "output_type": "display_data"
    }
   ],
   "source": [
    "dist = df['region'].value_counts()\n",
    "dist\n",
    "\n",
    "groups = df.groupby(\"region\").count()\n",
    "groups.sort_values(\"insurance_claim\", ascending=False, inplace=True)\n",
    "print (\"Regions\", groups.index.values)\n",
    "\n",
    "#Priors used below for Random Guessing Estimation\n",
    "priors = groups[\"insurance_claim\"] / groups[\"insurance_claim\"].sum()\n",
    "groups[\"insurance_claim\"].plot(kind=\"bar\", title=\"Number of insurance claims per region\")"
   ]
  },
  {
   "cell_type": "code",
   "execution_count": 118,
   "metadata": {},
   "outputs": [
    {
     "name": "stdout",
     "output_type": "stream",
     "text": [
      "Age groups [18 19 20 45 46 47 48 50 51 52 21 49 53 28 27 26 25 24 23 22 54 42 44 43\n",
      " 41 40 29 30 31 32 57 56 55 33 34 35 36 37 38 39 58 59 62 63 60 61 64 65\n",
      " 66 67 68]\n"
     ]
    },
    {
     "data": {
      "text/plain": [
       "<matplotlib.axes._subplots.AxesSubplot at 0x2aa3d8ac278>"
      ]
     },
     "execution_count": 118,
     "metadata": {},
     "output_type": "execute_result"
    },
    {
     "data": {
      "image/png": "[encoded data removed]",
      "text/plain": [
       "<Figure size 432x288 with 1 Axes>"
      ]
     },
     "metadata": {
      "needs_background": "light"
     },
     "output_type": "display_data"
    }
   ],
   "source": [
    "dist = df['age'].value_counts()\n",
    "dist\n",
    "\n",
    "groups = df.groupby(\"age\").count()\n",
    "groups.sort_values(\"insurance_claim\", ascending=False, inplace=True)\n",
    "print (\"Age groups\", groups.index.values)\n",
    "\n",
    "#Priors used below for Random Guessing Estimation\n",
    "priors = groups[\"insurance_claim\"] / groups[\"insurance_claim\"].sum()\n",
    "groups[\"insurance_claim\"].plot(kind=\"bar\", title=\"Number of claims per age group\")"
   ]
  },
  {
   "cell_type": "code",
   "execution_count": 116,
   "metadata": {},
   "outputs": [
    {
     "name": "stdout",
     "output_type": "stream",
     "text": [
      "Smokers ['no' 'yes']\n"
     ]
    },
    {
     "data": {
      "text/plain": [
       "<matplotlib.axes._subplots.AxesSubplot at 0x2aa3d5c1e80>"
      ]
     },
     "execution_count": 116,
     "metadata": {},
     "output_type": "execute_result"
    },
    {
     "data": {
      "image/png": "[encoded data removed]",
      "text/plain": [
       "<Figure size 432x288 with 1 Axes>"
      ]
     },
     "metadata": {
      "needs_background": "light"
     },
     "output_type": "display_data"
    }
   ],
   "source": [
    "dist = df['smoker'].value_counts()\n",
    "dist\n",
    "\n",
    "groups = df.groupby(\"smoker\").count()\n",
    "groups.sort_values(\"insurance_claim\", ascending=False, inplace=True)\n",
    "print (\"Smokers\", groups.index.values)\n",
    "\n",
    "#Priors used below for Random Guessing Estimation\n",
    "priors = groups[\"insurance_claim\"] / groups[\"insurance_claim\"].sum()\n",
    "groups[\"insurance_claim\"].plot(kind=\"bar\", title=\"Number of smokers insured\")"
   ]
  },
  {
   "cell_type": "code",
   "execution_count": 117,
   "metadata": {},
   "outputs": [
    {
     "name": "stdout",
     "output_type": "stream",
     "text": [
      "Children ['0' '1' '2' '3' '4' '5']\n"
     ]
    },
    {
     "data": {
      "text/plain": [
       "<matplotlib.axes._subplots.AxesSubplot at 0x2aa3d85c208>"
      ]
     },
     "execution_count": 117,
     "metadata": {},
     "output_type": "execute_result"
    },
    {
     "data": {
      "image/png": "[encoded data removed]",
      "text/plain": [
       "<Figure size 432x288 with 1 Axes>"
      ]
     },
     "metadata": {
      "needs_background": "light"
     },
     "output_type": "display_data"
    }
   ],
   "source": [
    "dist = df['children'].value_counts()\n",
    "dist\n",
    "\n",
    "groups = df.groupby(\"children\").count()\n",
    "groups.sort_values(\"insurance_claim\", ascending=False, inplace=True)\n",
    "print (\"Children\", groups.index.values)\n",
    "\n",
    "#Priors used below for Random Guessing Estimation\n",
    "priors = groups[\"insurance_claim\"] / groups[\"insurance_claim\"].sum()\n",
    "groups[\"insurance_claim\"].plot(kind=\"bar\", title=\"Number of children for insured users\")"
   ]
  },
  {
   "cell_type": "code",
   "execution_count": 84,
   "metadata": {},
   "outputs": [
    {
     "data": {
      "text/plain": [
       "<bound method NDFrame.head of      age    bmi children  claim_amount insurance_claim     region row_id  \\\n",
       "0     19 27.900        0     16884.924             yes  southwest    NaN   \n",
       "1     18 33.770        1      1725.552             yes  southeast    NaN   \n",
       "2     28 33.000        3         0.000              no  southeast    NaN   \n",
       "3     33 22.705        0         0.000              no  northwest    NaN   \n",
       "4     32 28.880        0      3866.855             yes  northwest    NaN   \n",
       "5     31 25.740        0         0.000              no  southeast    NaN   \n",
       "6     46 33.440        1      8240.590             yes  southeast    NaN   \n",
       "7     37 27.740        3         0.000              no  northwest    NaN   \n",
       "8     37 29.830        2         0.000              no  northeast    NaN   \n",
       "9     60 25.840        0         0.000              no  northwest    NaN   \n",
       "10    25 26.220        0      2721.321             yes  northeast    NaN   \n",
       "11    62 26.290        0     27808.725             yes  southeast    NaN   \n",
       "12    23 34.400        0      1826.843             yes  southwest    NaN   \n",
       "13    56 39.820        0     11090.718             yes  southeast    NaN   \n",
       "14    27 42.130        0     39611.758             yes  southeast    NaN   \n",
       "15    19 24.600        1         0.000              no  southwest    NaN   \n",
       "16    52 30.780        1     10797.336             yes  northeast    NaN   \n",
       "17    23 23.845        0         0.000              no  northeast    NaN   \n",
       "18    56 40.300        0     10602.385             yes  southwest    NaN   \n",
       "19    30 35.300        0     36837.467             yes  southwest    NaN   \n",
       "20    60 36.005        0     13228.847             yes  northeast    NaN   \n",
       "21    30 32.400        1      4149.736             yes  southwest    NaN   \n",
       "22    18 34.100        0      1137.011             yes  southeast    NaN   \n",
       "23    34 31.920        1     37701.877             yes  northeast    NaN   \n",
       "24    37 28.025        2         0.000              no  northwest    NaN   \n",
       "25    59 27.720        3     14001.134             yes  southeast    NaN   \n",
       "26    63 23.085        0         0.000              no  northeast    NaN   \n",
       "27    55 32.775        2         0.000              no  northwest    NaN   \n",
       "28    23 17.385        1      2775.192             yes  northwest    NaN   \n",
       "29    31 36.300        2     38711.000             yes  southwest    NaN   \n",
       "..   ...    ...      ...           ...             ...        ...    ...   \n",
       "270   21 30.200        0           nan             NaN  northwest    271   \n",
       "271   44 30.200        3           nan             NaN  southeast    272   \n",
       "272   43 28.315        1           nan             NaN  southeast    273   \n",
       "273   28 26.695        0           nan             NaN  northwest    274   \n",
       "274   31 43.900        0           nan             NaN  northeast    275   \n",
       "275   19 36.700        1           nan             NaN  southwest    276   \n",
       "276   29 21.655        3           nan             NaN  southwest    277   \n",
       "277   21 27.310        0           nan             NaN  northwest    278   \n",
       "278   20 18.600        0           nan             NaN  southwest    279   \n",
       "279   21 53.130        0           nan             NaN  southwest    280   \n",
       "280   31 39.710        5           nan             NaN  southwest    281   \n",
       "281   39 28.315        2           nan             NaN  southeast    282   \n",
       "282   34 32.065        4           nan             NaN  southwest    283   \n",
       "283   59 26.695        0           nan             NaN  southeast    284   \n",
       "284   57 36.830        0           nan             NaN  southeast    285   \n",
       "285   38 40.370        2           nan             NaN  northeast    286   \n",
       "286   28 27.935        0           nan             NaN  northwest    287   \n",
       "287   64 33.535        0           nan             NaN  southeast    288   \n",
       "288   43 31.870        0           nan             NaN  northwest    289   \n",
       "289   46 31.030        2           nan             NaN  northeast    290   \n",
       "290   21 26.225        3           nan             NaN  northeast    291   \n",
       "291   50 39.600        3           nan             NaN  northeast    292   \n",
       "292   61 24.740        2           nan             NaN  northeast    293   \n",
       "293   21 34.400        0           nan             NaN  southeast    294   \n",
       "294   47 44.700        3           nan             NaN  southwest    295   \n",
       "295   51 30.970        2           nan             NaN  southeast    296   \n",
       "296   19 32.920        1           nan             NaN  southeast    297   \n",
       "297   21 34.850        1           nan             NaN  southwest    298   \n",
       "298   23 25.800        0           nan             NaN  southeast    299   \n",
       "299   66 29.070        1           nan             NaN  northwest    300   \n",
       "\n",
       "        sex smoker  steps  \n",
       "0    female    yes   3009  \n",
       "1      male     no   3008  \n",
       "2      male     no   3009  \n",
       "3      male     no  10009  \n",
       "4      male     no   8010  \n",
       "5    female     no   8005  \n",
       "6    female     no   3002  \n",
       "7    female     no   8007  \n",
       "8      male     no   8002  \n",
       "9    female     no   5008  \n",
       "10     male     no   8006  \n",
       "11   female    yes   5004  \n",
       "12     male     no   3008  \n",
       "13   female     no   4001  \n",
       "14     male    yes   4006  \n",
       "15     male     no  10000  \n",
       "16   female     no   4008  \n",
       "17     male     no  10004  \n",
       "18     male     no   3003  \n",
       "19     male    yes   4010  \n",
       "20   female     no   3002  \n",
       "21   female     no   4000  \n",
       "22     male     no   4001  \n",
       "23   female    yes   4003  \n",
       "24     male     no   8000  \n",
       "25   female     no   8009  \n",
       "26   female     no   5000  \n",
       "27   female     no   4000  \n",
       "28     male     no  10006  \n",
       "29     male    yes   4003  \n",
       "..      ...    ...    ...  \n",
       "270  female    yes   2860  \n",
       "271  female     no   3773  \n",
       "272    male    yes   8184  \n",
       "273    male     no   7859  \n",
       "274  female    yes   4338  \n",
       "275    male     no   4654  \n",
       "276    male    yes   4342  \n",
       "277    male     no   7151  \n",
       "278  female     no   9046  \n",
       "279  female     no   3468  \n",
       "280    male     no   3807  \n",
       "281  female     no   8558  \n",
       "282  female    yes   3774  \n",
       "283    male     no   4552  \n",
       "284    male     no   3971  \n",
       "285  female     no   4191  \n",
       "286  female     no   7951  \n",
       "287  female     no   2125  \n",
       "288    male     no   4233  \n",
       "289    male    yes   3441  \n",
       "290  female    yes   9914  \n",
       "291    male     no   3067  \n",
       "292  female     no   7738  \n",
       "293    male     no   2616  \n",
       "294  female    yes   4439  \n",
       "295    male     no   4442  \n",
       "296    male    yes   3771  \n",
       "297    male    yes   3199  \n",
       "298    male     no   7298  \n",
       "299  female    yes   8143  \n",
       "\n",
       "[1638 rows x 10 columns]>"
      ]
     },
     "execution_count": 84,
     "metadata": {},
     "output_type": "execute_result"
    }
   ],
   "source": [
    "df.head"
   ]
  },
  {
   "cell_type": "code",
   "execution_count": 85,
   "metadata": {},
   "outputs": [],
   "source": [
    "y = raw_data.insurance_claim.values\n",
    "X = raw_data.drop(['insurance_claim','claim_amount'], axis=1)"
   ]
  },
  {
   "cell_type": "code",
   "execution_count": 86,
   "metadata": {},
   "outputs": [
    {
     "data": {
      "text/html": [
       "<div>\n",
       "<style scoped>\n",
       "    .dataframe tbody tr th:only-of-type {\n",
       "        vertical-align: middle;\n",
       "    }\n",
       "\n",
       "    .dataframe tbody tr th {\n",
       "        vertical-align: top;\n",
       "    }\n",
       "\n",
       "    .dataframe thead th {\n",
       "        text-align: right;\n",
       "    }\n",
       "</style>\n",
       "<table border=\"1\" class=\"dataframe\">\n",
       "  <thead>\n",
       "    <tr style=\"text-align: right;\">\n",
       "      <th></th>\n",
       "      <th>age</th>\n",
       "      <th>bmi</th>\n",
       "      <th>steps</th>\n",
       "      <th>sex_male</th>\n",
       "      <th>children_1</th>\n",
       "      <th>children_2</th>\n",
       "      <th>children_3</th>\n",
       "      <th>children_4</th>\n",
       "      <th>children_5</th>\n",
       "      <th>smoker_yes</th>\n",
       "      <th>region_northwest</th>\n",
       "      <th>region_southeast</th>\n",
       "      <th>region_southwest</th>\n",
       "    </tr>\n",
       "  </thead>\n",
       "  <tbody>\n",
       "    <tr>\n",
       "      <th>0</th>\n",
       "      <td>19</td>\n",
       "      <td>27.900</td>\n",
       "      <td>3009</td>\n",
       "      <td>0</td>\n",
       "      <td>0</td>\n",
       "      <td>0</td>\n",
       "      <td>0</td>\n",
       "      <td>0</td>\n",
       "      <td>0</td>\n",
       "      <td>1</td>\n",
       "      <td>0</td>\n",
       "      <td>0</td>\n",
       "      <td>1</td>\n",
       "    </tr>\n",
       "    <tr>\n",
       "      <th>1</th>\n",
       "      <td>18</td>\n",
       "      <td>33.770</td>\n",
       "      <td>3008</td>\n",
       "      <td>1</td>\n",
       "      <td>1</td>\n",
       "      <td>0</td>\n",
       "      <td>0</td>\n",
       "      <td>0</td>\n",
       "      <td>0</td>\n",
       "      <td>0</td>\n",
       "      <td>0</td>\n",
       "      <td>1</td>\n",
       "      <td>0</td>\n",
       "    </tr>\n",
       "    <tr>\n",
       "      <th>2</th>\n",
       "      <td>28</td>\n",
       "      <td>33.000</td>\n",
       "      <td>3009</td>\n",
       "      <td>1</td>\n",
       "      <td>0</td>\n",
       "      <td>0</td>\n",
       "      <td>1</td>\n",
       "      <td>0</td>\n",
       "      <td>0</td>\n",
       "      <td>0</td>\n",
       "      <td>0</td>\n",
       "      <td>1</td>\n",
       "      <td>0</td>\n",
       "    </tr>\n",
       "    <tr>\n",
       "      <th>3</th>\n",
       "      <td>33</td>\n",
       "      <td>22.705</td>\n",
       "      <td>10009</td>\n",
       "      <td>1</td>\n",
       "      <td>0</td>\n",
       "      <td>0</td>\n",
       "      <td>0</td>\n",
       "      <td>0</td>\n",
       "      <td>0</td>\n",
       "      <td>0</td>\n",
       "      <td>1</td>\n",
       "      <td>0</td>\n",
       "      <td>0</td>\n",
       "    </tr>\n",
       "    <tr>\n",
       "      <th>4</th>\n",
       "      <td>32</td>\n",
       "      <td>28.880</td>\n",
       "      <td>8010</td>\n",
       "      <td>1</td>\n",
       "      <td>0</td>\n",
       "      <td>0</td>\n",
       "      <td>0</td>\n",
       "      <td>0</td>\n",
       "      <td>0</td>\n",
       "      <td>0</td>\n",
       "      <td>1</td>\n",
       "      <td>0</td>\n",
       "      <td>0</td>\n",
       "    </tr>\n",
       "  </tbody>\n",
       "</table>\n",
       "</div>"
      ],
      "text/plain": [
       "   age    bmi  steps  sex_male  children_1  children_2  children_3  \\\n",
       "0   19 27.900   3009         0           0           0           0   \n",
       "1   18 33.770   3008         1           1           0           0   \n",
       "2   28 33.000   3009         1           0           0           1   \n",
       "3   33 22.705  10009         1           0           0           0   \n",
       "4   32 28.880   8010         1           0           0           0   \n",
       "\n",
       "   children_4  children_5  smoker_yes  region_northwest  region_southeast  \\\n",
       "0           0           0           1                 0                 0   \n",
       "1           0           0           0                 0                 1   \n",
       "2           0           0           0                 0                 1   \n",
       "3           0           0           0                 1                 0   \n",
       "4           0           0           0                 1                 0   \n",
       "\n",
       "   region_southwest  \n",
       "0                 1  \n",
       "1                 0  \n",
       "2                 0  \n",
       "3                 0  \n",
       "4                 0  "
      ]
     },
     "execution_count": 86,
     "metadata": {},
     "output_type": "execute_result"
    }
   ],
   "source": [
    "X_transformed = pd.get_dummies(X, sparse=False, drop_first=True)\n",
    "X_transformed.head()"
   ]
  },
  {
   "cell_type": "code",
   "execution_count": 87,
   "metadata": {},
   "outputs": [],
   "source": [
    "# Split the training data\n",
    "from sklearn.model_selection import train_test_split\n",
    "X_train, X_test, y_train, y_test = train_test_split(X_transformed, y, test_size=0.20, random_state = 47)"
   ]
  },
  {
   "cell_type": "code",
   "execution_count": 88,
   "metadata": {},
   "outputs": [
    {
     "data": {
      "text/plain": [
       "85.14"
      ]
     },
     "execution_count": 88,
     "metadata": {},
     "output_type": "execute_result"
    }
   ],
   "source": [
    "from sklearn.linear_model import LogisticRegression\n",
    "#Simple Logistic Regression\n",
    "\n",
    "logreg = LogisticRegression()\n",
    "logreg.fit(X_train, y_train)\n",
    "lm_pred = logreg.predict(X_test)\n",
    "acc_log = round(logreg.score(X_train, y_train) * 100, 2)\n",
    "acc_log"
   ]
  },
  {
   "cell_type": "code",
   "execution_count": 89,
   "metadata": {},
   "outputs": [
    {
     "name": "stdout",
     "output_type": "stream",
     "text": [
      "              precision    recall  f1-score   support\n",
      "\n",
      "          no       0.80      0.84      0.82       102\n",
      "         yes       0.90      0.87      0.89       166\n",
      "\n",
      "    accuracy                           0.86       268\n",
      "   macro avg       0.85      0.86      0.85       268\n",
      "weighted avg       0.86      0.86      0.86       268\n",
      "\n"
     ]
    }
   ],
   "source": [
    "print(classification_report(y_test, lm_pred))"
   ]
  },
  {
   "cell_type": "code",
   "execution_count": 90,
   "metadata": {},
   "outputs": [
    {
     "data": {
      "text/plain": [
       "89.07"
      ]
     },
     "execution_count": 90,
     "metadata": {},
     "output_type": "execute_result"
    }
   ],
   "source": [
    "from sklearn.svm import SVC\n",
    "svc = SVC(gamma='auto')\n",
    "#Support Vector Machine\n",
    "svc.fit(X_train, y_train)\n",
    "svm_pred = svc.predict(X_test)\n",
    "acc_svc = round(svc.score(X_train, y_train) * 100, 2)\n",
    "acc_svc"
   ]
  },
  {
   "cell_type": "code",
   "execution_count": 91,
   "metadata": {},
   "outputs": [
    {
     "name": "stdout",
     "output_type": "stream",
     "text": [
      "              precision    recall  f1-score   support\n",
      "\n",
      "          no       0.74      0.69      0.71       102\n",
      "         yes       0.82      0.85      0.83       166\n",
      "\n",
      "    accuracy                           0.79       268\n",
      "   macro avg       0.78      0.77      0.77       268\n",
      "weighted avg       0.79      0.79      0.79       268\n",
      "\n"
     ]
    }
   ],
   "source": [
    "print(classification_report(y_test, svm_pred))"
   ]
  },
  {
   "cell_type": "code",
   "execution_count": 92,
   "metadata": {},
   "outputs": [
    {
     "data": {
      "text/plain": [
       "86.26"
      ]
     },
     "execution_count": 92,
     "metadata": {},
     "output_type": "execute_result"
    }
   ],
   "source": [
    "from sklearn.neighbors import KNeighborsClassifier\n",
    "#K Nearest Neighbours Classifier\n",
    "\n",
    "knn = KNeighborsClassifier(n_neighbors = 3)\n",
    "knn.fit(X_train, y_train)\n",
    "knn_pred = knn.predict(X_test)\n",
    "acc_knn = round(knn.score(X_train, y_train) * 100, 2)\n",
    "acc_knn"
   ]
  },
  {
   "cell_type": "code",
   "execution_count": 93,
   "metadata": {},
   "outputs": [
    {
     "name": "stdout",
     "output_type": "stream",
     "text": [
      "              precision    recall  f1-score   support\n",
      "\n",
      "          no       0.64      0.70      0.67       102\n",
      "         yes       0.80      0.76      0.78       166\n",
      "\n",
      "    accuracy                           0.74       268\n",
      "   macro avg       0.72      0.73      0.72       268\n",
      "weighted avg       0.74      0.74      0.74       268\n",
      "\n"
     ]
    }
   ],
   "source": [
    "print(classification_report(y_test, knn_pred))"
   ]
  },
  {
   "cell_type": "code",
   "execution_count": 94,
   "metadata": {},
   "outputs": [
    {
     "data": {
      "text/plain": [
       "78.97"
      ]
     },
     "execution_count": 94,
     "metadata": {},
     "output_type": "execute_result"
    }
   ],
   "source": [
    "from sklearn.naive_bayes import GaussianNB\n",
    "# Gaussian Naive Bayes\n",
    "\n",
    "gaussian = GaussianNB()\n",
    "gaussian.fit(X_train, y_train)\n",
    "gnb_pred = gaussian.predict(X_test)\n",
    "acc_gaussian = round(gaussian.score(X_train, y_train) * 100, 2)\n",
    "acc_gaussian"
   ]
  },
  {
   "cell_type": "code",
   "execution_count": 95,
   "metadata": {},
   "outputs": [
    {
     "name": "stdout",
     "output_type": "stream",
     "text": [
      "              precision    recall  f1-score   support\n",
      "\n",
      "          no       0.77      0.76      0.77       102\n",
      "         yes       0.86      0.86      0.86       166\n",
      "\n",
      "    accuracy                           0.82       268\n",
      "   macro avg       0.81      0.81      0.81       268\n",
      "weighted avg       0.82      0.82      0.82       268\n",
      "\n"
     ]
    }
   ],
   "source": [
    "print(classification_report(y_test, gnb_pred))"
   ]
  },
  {
   "cell_type": "code",
   "execution_count": 96,
   "metadata": {},
   "outputs": [
    {
     "data": {
      "text/plain": [
       "57.66"
      ]
     },
     "execution_count": 96,
     "metadata": {},
     "output_type": "execute_result"
    }
   ],
   "source": [
    "from sklearn.linear_model import Perceptron\n",
    "# Perceptron\n",
    "\n",
    "perceptron = Perceptron(penalty='elasticnet', alpha=0.0001)\n",
    "perceptron.fit(X_train, y_train)\n",
    "ptn_pred = perceptron.predict(X_test)\n",
    "acc_perceptron = round(perceptron.score(X_train, y_train) * 100, 2)\n",
    "acc_perceptron"
   ]
  },
  {
   "cell_type": "code",
   "execution_count": 97,
   "metadata": {},
   "outputs": [
    {
     "name": "stdout",
     "output_type": "stream",
     "text": [
      "              precision    recall  f1-score   support\n",
      "\n",
      "          no       0.00      0.00      0.00       102\n",
      "         yes       0.62      1.00      0.76       166\n",
      "\n",
      "    accuracy                           0.62       268\n",
      "   macro avg       0.31      0.50      0.38       268\n",
      "weighted avg       0.38      0.62      0.47       268\n",
      "\n"
     ]
    }
   ],
   "source": [
    "print(classification_report(y_test, ptn_pred))"
   ]
  },
  {
   "cell_type": "code",
   "execution_count": 98,
   "metadata": {},
   "outputs": [
    {
     "data": {
      "text/plain": [
       "42.34"
      ]
     },
     "execution_count": 98,
     "metadata": {},
     "output_type": "execute_result"
    }
   ],
   "source": [
    "from sklearn.svm import SVC, LinearSVC\n",
    "# Linear SVC\n",
    "\n",
    "linear_svc = LinearSVC()\n",
    "linear_svc.fit(X_train, y_train)\n",
    "lsvc_pred = linear_svc.predict(X_test)\n",
    "acc_linear_svc = round(linear_svc.score(X_train, y_train) * 100, 2)\n",
    "acc_linear_svc"
   ]
  },
  {
   "cell_type": "code",
   "execution_count": 99,
   "metadata": {},
   "outputs": [
    {
     "name": "stdout",
     "output_type": "stream",
     "text": [
      "              precision    recall  f1-score   support\n",
      "\n",
      "          no       0.38      1.00      0.55       102\n",
      "         yes       0.00      0.00      0.00       166\n",
      "\n",
      "    accuracy                           0.38       268\n",
      "   macro avg       0.19      0.50      0.28       268\n",
      "weighted avg       0.14      0.38      0.21       268\n",
      "\n"
     ]
    }
   ],
   "source": [
    "print(classification_report(y_test, lsvc_pred))"
   ]
  },
  {
   "cell_type": "code",
   "execution_count": 100,
   "metadata": {},
   "outputs": [
    {
     "data": {
      "text/plain": [
       "42.34"
      ]
     },
     "execution_count": 100,
     "metadata": {},
     "output_type": "execute_result"
    }
   ],
   "source": [
    "from sklearn.linear_model import SGDClassifier\n",
    "# Stochastic Gradient Descent\n",
    "\n",
    "sgd = SGDClassifier()\n",
    "sgd.fit(X_train, y_train)\n",
    "sgd_pred = sgd.predict(X_test)\n",
    "acc_sgd = round(sgd.score(X_train, y_train) * 100, 2)\n",
    "acc_sgd"
   ]
  },
  {
   "cell_type": "code",
   "execution_count": 101,
   "metadata": {},
   "outputs": [
    {
     "name": "stdout",
     "output_type": "stream",
     "text": [
      "              precision    recall  f1-score   support\n",
      "\n",
      "          no       0.38      1.00      0.55       102\n",
      "         yes       0.00      0.00      0.00       166\n",
      "\n",
      "    accuracy                           0.38       268\n",
      "   macro avg       0.19      0.50      0.28       268\n",
      "weighted avg       0.14      0.38      0.21       268\n",
      "\n"
     ]
    }
   ],
   "source": [
    "print(classification_report(y_test, sgd_pred))"
   ]
  },
  {
   "cell_type": "code",
   "execution_count": 102,
   "metadata": {},
   "outputs": [
    {
     "data": {
      "text/plain": [
       "100.0"
      ]
     },
     "execution_count": 102,
     "metadata": {},
     "output_type": "execute_result"
    }
   ],
   "source": [
    "from sklearn.tree import DecisionTreeClassifier\n",
    "# Decision Tree\n",
    "\n",
    "decision_tree = DecisionTreeClassifier()\n",
    "decision_tree.fit(X_train, y_train)\n",
    "tree_pred = decision_tree.predict(X_test)\n",
    "acc_decision_tree = round(decision_tree.score(X_train, y_train) * 100, 2)\n",
    "acc_decision_tree"
   ]
  },
  {
   "cell_type": "code",
   "execution_count": 103,
   "metadata": {},
   "outputs": [
    {
     "name": "stdout",
     "output_type": "stream",
     "text": [
      "              precision    recall  f1-score   support\n",
      "\n",
      "          no       0.99      0.99      0.99       102\n",
      "         yes       0.99      0.99      0.99       166\n",
      "\n",
      "    accuracy                           0.99       268\n",
      "   macro avg       0.99      0.99      0.99       268\n",
      "weighted avg       0.99      0.99      0.99       268\n",
      "\n"
     ]
    }
   ],
   "source": [
    "print(classification_report(y_test, tree_pred))"
   ]
  },
  {
   "cell_type": "code",
   "execution_count": 104,
   "metadata": {},
   "outputs": [
    {
     "data": {
      "text/plain": [
       "100.0"
      ]
     },
     "execution_count": 104,
     "metadata": {},
     "output_type": "execute_result"
    }
   ],
   "source": [
    "from sklearn.ensemble import RandomForestClassifier\n",
    "# Random Forest\n",
    "\n",
    "random_forest = RandomForestClassifier(n_estimators=100)\n",
    "random_forest.fit(X_train, y_train)\n",
    "rf_pred = random_forest.predict(X_test)\n",
    "random_forest.score(X_train, y_train)\n",
    "acc_random_forest = round(random_forest.score(X_train, y_train) * 100, 2)\n",
    "acc_random_forest"
   ]
  },
  {
   "cell_type": "code",
   "execution_count": 105,
   "metadata": {},
   "outputs": [
    {
     "name": "stdout",
     "output_type": "stream",
     "text": [
      "              precision    recall  f1-score   support\n",
      "\n",
      "          no       0.94      0.94      0.94       102\n",
      "         yes       0.96      0.96      0.96       166\n",
      "\n",
      "    accuracy                           0.96       268\n",
      "   macro avg       0.95      0.95      0.95       268\n",
      "weighted avg       0.96      0.96      0.96       268\n",
      "\n"
     ]
    }
   ],
   "source": [
    "print(classification_report(y_test, rf_pred))"
   ]
  },
  {
   "cell_type": "code",
   "execution_count": 106,
   "metadata": {},
   "outputs": [],
   "source": [
    "from sklearn.linear_model import SGDClassifier, PassiveAggressiveClassifier\n",
    "PassAgg = PassiveAggressiveClassifier(max_iter=50)\n",
    "\n",
    "sgd = SGDClassifier(loss='hinge',   \n",
    "              penalty='l1',   \n",
    "              alpha=1e-2,     \n",
    "              random_state=42,\n",
    "              max_iter=7,     \n",
    "              tol=None)"
   ]
  },
  {
   "cell_type": "code",
   "execution_count": 107,
   "metadata": {},
   "outputs": [
    {
     "name": "stdout",
     "output_type": "stream",
     "text": [
      "              precision    recall  f1-score   support\n",
      "\n",
      "          no       0.94      0.94      0.94       102\n",
      "         yes       0.96      0.96      0.96       166\n",
      "\n",
      "    accuracy                           0.96       268\n",
      "   macro avg       0.95      0.95      0.95       268\n",
      "weighted avg       0.96      0.96      0.96       268\n",
      "\n"
     ]
    }
   ],
   "source": [
    "print(classification_report(y_test, rf_pred))"
   ]
  },
  {
   "cell_type": "code",
   "execution_count": 108,
   "metadata": {},
   "outputs": [
    {
     "data": {
      "text/html": [
       "<div>\n",
       "<style scoped>\n",
       "    .dataframe tbody tr th:only-of-type {\n",
       "        vertical-align: middle;\n",
       "    }\n",
       "\n",
       "    .dataframe tbody tr th {\n",
       "        vertical-align: top;\n",
       "    }\n",
       "\n",
       "    .dataframe thead th {\n",
       "        text-align: right;\n",
       "    }\n",
       "</style>\n",
       "<table border=\"1\" class=\"dataframe\">\n",
       "  <thead>\n",
       "    <tr style=\"text-align: right;\">\n",
       "      <th></th>\n",
       "      <th>Model</th>\n",
       "      <th>Score</th>\n",
       "    </tr>\n",
       "  </thead>\n",
       "  <tbody>\n",
       "    <tr>\n",
       "      <th>3</th>\n",
       "      <td>Random Forest</td>\n",
       "      <td>100.000</td>\n",
       "    </tr>\n",
       "    <tr>\n",
       "      <th>8</th>\n",
       "      <td>Decision Tree</td>\n",
       "      <td>100.000</td>\n",
       "    </tr>\n",
       "    <tr>\n",
       "      <th>0</th>\n",
       "      <td>Support Vector Machines</td>\n",
       "      <td>89.070</td>\n",
       "    </tr>\n",
       "    <tr>\n",
       "      <th>1</th>\n",
       "      <td>KNN</td>\n",
       "      <td>86.260</td>\n",
       "    </tr>\n",
       "    <tr>\n",
       "      <th>2</th>\n",
       "      <td>Logistic Regression</td>\n",
       "      <td>85.140</td>\n",
       "    </tr>\n",
       "    <tr>\n",
       "      <th>4</th>\n",
       "      <td>Naive Bayes</td>\n",
       "      <td>78.970</td>\n",
       "    </tr>\n",
       "    <tr>\n",
       "      <th>5</th>\n",
       "      <td>Perceptron</td>\n",
       "      <td>57.660</td>\n",
       "    </tr>\n",
       "    <tr>\n",
       "      <th>6</th>\n",
       "      <td>Stochastic Gradient Decent</td>\n",
       "      <td>42.340</td>\n",
       "    </tr>\n",
       "    <tr>\n",
       "      <th>7</th>\n",
       "      <td>Linear SVC</td>\n",
       "      <td>42.340</td>\n",
       "    </tr>\n",
       "  </tbody>\n",
       "</table>\n",
       "</div>"
      ],
      "text/plain": [
       "                        Model   Score\n",
       "3               Random Forest 100.000\n",
       "8               Decision Tree 100.000\n",
       "0     Support Vector Machines  89.070\n",
       "1                         KNN  86.260\n",
       "2         Logistic Regression  85.140\n",
       "4                 Naive Bayes  78.970\n",
       "5                  Perceptron  57.660\n",
       "6  Stochastic Gradient Decent  42.340\n",
       "7                  Linear SVC  42.340"
      ]
     },
     "execution_count": 108,
     "metadata": {},
     "output_type": "execute_result"
    }
   ],
   "source": [
    "models = pd.DataFrame({\n",
    "    'Model': ['Support Vector Machines', 'KNN', 'Logistic Regression', \n",
    "              'Random Forest', 'Naive Bayes', 'Perceptron', \n",
    "              'Stochastic Gradient Decent', 'Linear SVC', \n",
    "              'Decision Tree'],\n",
    "    'Score': [acc_svc, acc_knn, acc_log, \n",
    "              acc_random_forest, acc_gaussian, acc_perceptron, \n",
    "              acc_sgd, acc_linear_svc, acc_decision_tree]})\n",
    "models.sort_values(by='Score', ascending=False)"
   ]
  },
  {
   "cell_type": "code",
   "execution_count": 109,
   "metadata": {},
   "outputs": [],
   "source": [
    "X_submission = predictor.drop('row_id', axis=1)"
   ]
  },
  {
   "cell_type": "code",
   "execution_count": 110,
   "metadata": {},
   "outputs": [
    {
     "data": {
      "text/html": [
       "<div>\n",
       "<style scoped>\n",
       "    .dataframe tbody tr th:only-of-type {\n",
       "        vertical-align: middle;\n",
       "    }\n",
       "\n",
       "    .dataframe tbody tr th {\n",
       "        vertical-align: top;\n",
       "    }\n",
       "\n",
       "    .dataframe thead th {\n",
       "        text-align: right;\n",
       "    }\n",
       "</style>\n",
       "<table border=\"1\" class=\"dataframe\">\n",
       "  <thead>\n",
       "    <tr style=\"text-align: right;\">\n",
       "      <th></th>\n",
       "      <th>age</th>\n",
       "      <th>bmi</th>\n",
       "      <th>steps</th>\n",
       "      <th>sex_male</th>\n",
       "      <th>children_1</th>\n",
       "      <th>children_2</th>\n",
       "      <th>children_3</th>\n",
       "      <th>children_4</th>\n",
       "      <th>children_5</th>\n",
       "      <th>smoker_yes</th>\n",
       "      <th>region_northwest</th>\n",
       "      <th>region_southeast</th>\n",
       "      <th>region_southwest</th>\n",
       "    </tr>\n",
       "  </thead>\n",
       "  <tbody>\n",
       "    <tr>\n",
       "      <th>0</th>\n",
       "      <td>27</td>\n",
       "      <td>28.880</td>\n",
       "      <td>8049</td>\n",
       "      <td>1</td>\n",
       "      <td>0</td>\n",
       "      <td>0</td>\n",
       "      <td>0</td>\n",
       "      <td>0</td>\n",
       "      <td>0</td>\n",
       "      <td>0</td>\n",
       "      <td>0</td>\n",
       "      <td>0</td>\n",
       "      <td>1</td>\n",
       "    </tr>\n",
       "    <tr>\n",
       "      <th>1</th>\n",
       "      <td>20</td>\n",
       "      <td>26.265</td>\n",
       "      <td>7970</td>\n",
       "      <td>0</td>\n",
       "      <td>0</td>\n",
       "      <td>0</td>\n",
       "      <td>1</td>\n",
       "      <td>0</td>\n",
       "      <td>0</td>\n",
       "      <td>1</td>\n",
       "      <td>0</td>\n",
       "      <td>0</td>\n",
       "      <td>1</td>\n",
       "    </tr>\n",
       "    <tr>\n",
       "      <th>2</th>\n",
       "      <td>32</td>\n",
       "      <td>26.025</td>\n",
       "      <td>2973</td>\n",
       "      <td>0</td>\n",
       "      <td>0</td>\n",
       "      <td>0</td>\n",
       "      <td>0</td>\n",
       "      <td>0</td>\n",
       "      <td>0</td>\n",
       "      <td>0</td>\n",
       "      <td>0</td>\n",
       "      <td>0</td>\n",
       "      <td>1</td>\n",
       "    </tr>\n",
       "    <tr>\n",
       "      <th>3</th>\n",
       "      <td>19</td>\n",
       "      <td>22.085</td>\n",
       "      <td>10427</td>\n",
       "      <td>0</td>\n",
       "      <td>1</td>\n",
       "      <td>0</td>\n",
       "      <td>0</td>\n",
       "      <td>0</td>\n",
       "      <td>0</td>\n",
       "      <td>1</td>\n",
       "      <td>0</td>\n",
       "      <td>0</td>\n",
       "      <td>1</td>\n",
       "    </tr>\n",
       "    <tr>\n",
       "      <th>4</th>\n",
       "      <td>20</td>\n",
       "      <td>28.685</td>\n",
       "      <td>3972</td>\n",
       "      <td>0</td>\n",
       "      <td>0</td>\n",
       "      <td>0</td>\n",
       "      <td>0</td>\n",
       "      <td>0</td>\n",
       "      <td>0</td>\n",
       "      <td>1</td>\n",
       "      <td>0</td>\n",
       "      <td>0</td>\n",
       "      <td>1</td>\n",
       "    </tr>\n",
       "  </tbody>\n",
       "</table>\n",
       "</div>"
      ],
      "text/plain": [
       "   age    bmi  steps  sex_male  children_1  children_2  children_3  \\\n",
       "0   27 28.880   8049         1           0           0           0   \n",
       "1   20 26.265   7970         0           0           0           1   \n",
       "2   32 26.025   2973         0           0           0           0   \n",
       "3   19 22.085  10427         0           1           0           0   \n",
       "4   20 28.685   3972         0           0           0           0   \n",
       "\n",
       "   children_4  children_5  smoker_yes  region_northwest  region_southeast  \\\n",
       "0           0           0           0                 0                 0   \n",
       "1           0           0           1                 0                 0   \n",
       "2           0           0           0                 0                 0   \n",
       "3           0           0           1                 0                 0   \n",
       "4           0           0           1                 0                 0   \n",
       "\n",
       "   region_southwest  \n",
       "0                 1  \n",
       "1                 1  \n",
       "2                 1  \n",
       "3                 1  \n",
       "4                 1  "
      ]
     },
     "execution_count": 110,
     "metadata": {},
     "output_type": "execute_result"
    }
   ],
   "source": [
    "X_submission_transformed = pd.get_dummies(X_submission, sparse=False, drop_first=True)\n",
    "X_submission_transformed.head()"
   ]
  },
  {
   "cell_type": "code",
   "execution_count": 111,
   "metadata": {},
   "outputs": [],
   "source": [
    "predictions = random_forest.predict(X_submission_transformed)"
   ]
  },
  {
   "cell_type": "code",
   "execution_count": 112,
   "metadata": {},
   "outputs": [],
   "source": [
    "submission = pd.DataFrame({'row_id' : predictor.row_id,'predictions' : predictions.ravel()}) \n",
    "submission.to_csv('submission.csv', index=False)"
   ]
  },
  {
   "cell_type": "code",
   "execution_count": 113,
   "metadata": {},
   "outputs": [
    {
     "data": {
      "text/html": [
       "<div>\n",
       "<style scoped>\n",
       "    .dataframe tbody tr th:only-of-type {\n",
       "        vertical-align: middle;\n",
       "    }\n",
       "\n",
       "    .dataframe tbody tr th {\n",
       "        vertical-align: top;\n",
       "    }\n",
       "\n",
       "    .dataframe thead th {\n",
       "        text-align: right;\n",
       "    }\n",
       "</style>\n",
       "<table border=\"1\" class=\"dataframe\">\n",
       "  <thead>\n",
       "    <tr style=\"text-align: right;\">\n",
       "      <th></th>\n",
       "      <th>row_id</th>\n",
       "      <th>predictions</th>\n",
       "    </tr>\n",
       "  </thead>\n",
       "  <tbody>\n",
       "    <tr>\n",
       "      <th>0</th>\n",
       "      <td>1</td>\n",
       "      <td>yes</td>\n",
       "    </tr>\n",
       "    <tr>\n",
       "      <th>1</th>\n",
       "      <td>2</td>\n",
       "      <td>yes</td>\n",
       "    </tr>\n",
       "    <tr>\n",
       "      <th>2</th>\n",
       "      <td>3</td>\n",
       "      <td>yes</td>\n",
       "    </tr>\n",
       "    <tr>\n",
       "      <th>3</th>\n",
       "      <td>4</td>\n",
       "      <td>yes</td>\n",
       "    </tr>\n",
       "    <tr>\n",
       "      <th>4</th>\n",
       "      <td>5</td>\n",
       "      <td>yes</td>\n",
       "    </tr>\n",
       "  </tbody>\n",
       "</table>\n",
       "</div>"
      ],
      "text/plain": [
       "  row_id predictions\n",
       "0      1         yes\n",
       "1      2         yes\n",
       "2      3         yes\n",
       "3      4         yes\n",
       "4      5         yes"
      ]
     },
     "execution_count": 113,
     "metadata": {},
     "output_type": "execute_result"
    }
   ],
   "source": [
    "submission.head()"
   ]
  },
  {
   "cell_type": "code",
   "execution_count": 114,
   "metadata": {},
   "outputs": [],
   "source": [
    "submission.to_sql('classification_model_results', con=connection, if_exists='append', index=False,method='multi',chunksize=500)"
   ]
  },
  {
   "cell_type": "code",
   "execution_count": null,
   "metadata": {},
   "outputs": [],
   "source": []
  }
 ],
 "metadata": {
  "kernelspec": {
   "display_name": "Python 3",
   "language": "python",
   "name": "python3"
  },
  "language_info": {
   "codemirror_mode": {
    "name": "ipython",
    "version": 3
   },
   "file_extension": ".py",
   "mimetype": "text/x-python",
   "name": "python",
   "nbconvert_exporter": "python",
   "pygments_lexer": "ipython3",
   "version": "3.7.3"
  }
 },
 "nbformat": 4,
 "nbformat_minor": 2
}
