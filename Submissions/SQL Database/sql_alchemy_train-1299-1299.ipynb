{
 "cells": [
  {
   "cell_type": "markdown",
   "metadata": {},
   "source": [
    "# Using Pandas and SQL alchemy to Connect to a Database"
   ]
  },
  {
   "cell_type": "markdown",
   "metadata": {},
   "source": [
    "### Install SQL Alchemy"
   ]
  },
  {
   "cell_type": "code",
   "execution_count": 4,
   "metadata": {},
   "outputs": [
    {
     "name": "stdout",
     "output_type": "stream",
     "text": [
      "Requirement already satisfied: sqlalchemy in c:\\users\\user\\anaconda3\\lib\\site-packages (1.3.11)\n",
      "Collecting package metadata (current_repodata.json): ...working... done\n",
      "Solving environment: ...working... done\n",
      "\n",
      "## Package Plan ##\n",
      "\n",
      "  environment location: C:\\Users\\user\\Anaconda3\n",
      "\n",
      "  added / updated specs:\n",
      "    - pymssql\n",
      "\n",
      "\n",
      "The following packages will be downloaded:\n",
      "\n",
      "    package                    |            build\n",
      "    ---------------------------|-----------------\n",
      "    ca-certificates-2019.11.27 |                0         124 KB\n",
      "    certifi-2019.11.28         |           py37_0         154 KB\n",
      "    conda-4.8.1                |           py37_0         2.8 MB\n",
      "    freetds-1.00.97            |       h7a1dbc1_0         711 KB\n",
      "    pymssql-2.1.4              |   py37hfa6e2cd_0         166 KB\n",
      "    ------------------------------------------------------------\n",
      "                                           Total:         4.0 MB\n",
      "\n",
      "The following NEW packages will be INSTALLED:\n",
      "\n",
      "  freetds            pkgs/main/win-64::freetds-1.00.97-h7a1dbc1_0\n",
      "  pymssql            pkgs/main/win-64::pymssql-2.1.4-py37hfa6e2cd_0\n",
      "\n",
      "The following packages will be UPDATED:\n",
      "\n",
      "  ca-certificates                              2019.10.16-0 --> 2019.11.27-0\n",
      "  certifi                                  2019.9.11-py37_0 --> 2019.11.28-py37_0\n",
      "  conda                                       4.7.12-py37_0 --> 4.8.1-py37_0\n",
      "\n",
      "\n",
      "Preparing transaction: ...working... done\n",
      "Verifying transaction: ...working... done\n",
      "Executing transaction: ...working... done\n"
     ]
    }
   ],
   "source": [
    "!pip install sqlalchemy\n",
    "!conda install -y -q pymssql"
   ]
  },
  {
   "cell_type": "markdown",
   "metadata": {},
   "source": [
    "### Import packages we need"
   ]
  },
  {
   "cell_type": "code",
   "execution_count": 1,
   "metadata": {},
   "outputs": [],
   "source": [
    "import sqlalchemy as sa\n",
    "import pandas as pd\n",
    "from sqlalchemy import create_engine"
   ]
  },
  {
   "cell_type": "markdown",
   "metadata": {},
   "source": [
    "### Create a connection to our database"
   ]
  },
  {
   "cell_type": "markdown",
   "metadata": {},
   "source": [
    "### Credentials\n",
    "##### NB! Change the credentials to those specific to you\n",
    "##### NB! Make sure you have data in your data base to query from - This train assumes you have a table called football_players in your RDS database"
   ]
  },
  {
   "cell_type": "code",
   "execution_count": 2,
   "metadata": {},
   "outputs": [],
   "source": [
    "Username = 'admin'\n",
    "Password = 'amazing_people'\n",
    "Host = 'alphacode-explore.ccwgqdqrrmvt.eu-west-1.rds.amazonaws.com'\n",
    "Port = '1433'\n",
    "Database = \"Andile\""
   ]
  },
  {
   "cell_type": "markdown",
   "metadata": {},
   "source": [
    "### 1 Create connection"
   ]
  },
  {
   "cell_type": "code",
   "execution_count": 5,
   "metadata": {},
   "outputs": [],
   "source": [
    "connection = create_engine(\n",
    "    'mssql+pymssql://' +\n",
    "    Username + ':' + Password + '@' + Host + ':' + Port + '/' + Database\n",
    ")"
   ]
  },
  {
   "cell_type": "markdown",
   "metadata": {},
   "source": [
    "### 2 What is the sql query we want to perform?"
   ]
  },
  {
   "cell_type": "code",
   "execution_count": 6,
   "metadata": {},
   "outputs": [],
   "source": [
    "sql_query = \"Select * from football_players\""
   ]
  },
  {
   "cell_type": "markdown",
   "metadata": {},
   "source": [
    "### 3 Using pandas we now take our connection and our query to create a dataframe"
   ]
  },
  {
   "cell_type": "code",
   "execution_count": 7,
   "metadata": {},
   "outputs": [],
   "source": [
    "df = pd.read_sql_query(sql_query, connection)"
   ]
  },
  {
   "cell_type": "code",
   "execution_count": 8,
   "metadata": {},
   "outputs": [
    {
     "data": {
      "text/html": [
       "<div>\n",
       "<style scoped>\n",
       "    .dataframe tbody tr th:only-of-type {\n",
       "        vertical-align: middle;\n",
       "    }\n",
       "\n",
       "    .dataframe tbody tr th {\n",
       "        vertical-align: top;\n",
       "    }\n",
       "\n",
       "    .dataframe thead th {\n",
       "        text-align: right;\n",
       "    }\n",
       "</style>\n",
       "<table border=\"1\" class=\"dataframe\">\n",
       "  <thead>\n",
       "    <tr style=\"text-align: right;\">\n",
       "      <th></th>\n",
       "      <th>Name</th>\n",
       "      <th>Age</th>\n",
       "      <th>Nationality</th>\n",
       "      <th>Overall</th>\n",
       "      <th>Acceleration</th>\n",
       "      <th>Aggression</th>\n",
       "      <th>Agility</th>\n",
       "      <th>Balance</th>\n",
       "      <th>Ball_control</th>\n",
       "      <th>Composure</th>\n",
       "      <th>...</th>\n",
       "      <th>Short_passing</th>\n",
       "      <th>Shot_power</th>\n",
       "      <th>Sliding_tackle</th>\n",
       "      <th>Sprint_speed</th>\n",
       "      <th>Stamina</th>\n",
       "      <th>Standing_tackle</th>\n",
       "      <th>Strength</th>\n",
       "      <th>Vision</th>\n",
       "      <th>Volleys</th>\n",
       "      <th>Preferred_Positions</th>\n",
       "    </tr>\n",
       "  </thead>\n",
       "  <tbody>\n",
       "    <tr>\n",
       "      <th>0</th>\n",
       "      <td>Cristiano Ronaldo</td>\n",
       "      <td>32</td>\n",
       "      <td>Portugal</td>\n",
       "      <td>94</td>\n",
       "      <td>89</td>\n",
       "      <td>63</td>\n",
       "      <td>89</td>\n",
       "      <td>63</td>\n",
       "      <td>93</td>\n",
       "      <td>95</td>\n",
       "      <td>...</td>\n",
       "      <td>83</td>\n",
       "      <td>94</td>\n",
       "      <td>23</td>\n",
       "      <td>91</td>\n",
       "      <td>92</td>\n",
       "      <td>31</td>\n",
       "      <td>80</td>\n",
       "      <td>85</td>\n",
       "      <td>88</td>\n",
       "      <td>ST LW</td>\n",
       "    </tr>\n",
       "    <tr>\n",
       "      <th>1</th>\n",
       "      <td>L. Messi</td>\n",
       "      <td>30</td>\n",
       "      <td>Argentina</td>\n",
       "      <td>93</td>\n",
       "      <td>92</td>\n",
       "      <td>48</td>\n",
       "      <td>90</td>\n",
       "      <td>95</td>\n",
       "      <td>95</td>\n",
       "      <td>96</td>\n",
       "      <td>...</td>\n",
       "      <td>88</td>\n",
       "      <td>85</td>\n",
       "      <td>26</td>\n",
       "      <td>87</td>\n",
       "      <td>73</td>\n",
       "      <td>28</td>\n",
       "      <td>59</td>\n",
       "      <td>90</td>\n",
       "      <td>85</td>\n",
       "      <td>RW</td>\n",
       "    </tr>\n",
       "    <tr>\n",
       "      <th>2</th>\n",
       "      <td>Neymar</td>\n",
       "      <td>25</td>\n",
       "      <td>Brazil</td>\n",
       "      <td>92</td>\n",
       "      <td>94</td>\n",
       "      <td>56</td>\n",
       "      <td>96</td>\n",
       "      <td>82</td>\n",
       "      <td>95</td>\n",
       "      <td>92</td>\n",
       "      <td>...</td>\n",
       "      <td>81</td>\n",
       "      <td>80</td>\n",
       "      <td>33</td>\n",
       "      <td>90</td>\n",
       "      <td>78</td>\n",
       "      <td>24</td>\n",
       "      <td>53</td>\n",
       "      <td>80</td>\n",
       "      <td>83</td>\n",
       "      <td>LW</td>\n",
       "    </tr>\n",
       "    <tr>\n",
       "      <th>3</th>\n",
       "      <td>L. Suárez</td>\n",
       "      <td>30</td>\n",
       "      <td>Uruguay</td>\n",
       "      <td>92</td>\n",
       "      <td>88</td>\n",
       "      <td>78</td>\n",
       "      <td>86</td>\n",
       "      <td>60</td>\n",
       "      <td>91</td>\n",
       "      <td>83</td>\n",
       "      <td>...</td>\n",
       "      <td>83</td>\n",
       "      <td>87</td>\n",
       "      <td>38</td>\n",
       "      <td>77</td>\n",
       "      <td>89</td>\n",
       "      <td>45</td>\n",
       "      <td>80</td>\n",
       "      <td>84</td>\n",
       "      <td>88</td>\n",
       "      <td>ST</td>\n",
       "    </tr>\n",
       "    <tr>\n",
       "      <th>4</th>\n",
       "      <td>M. Neuer</td>\n",
       "      <td>31</td>\n",
       "      <td>Germany</td>\n",
       "      <td>92</td>\n",
       "      <td>58</td>\n",
       "      <td>29</td>\n",
       "      <td>52</td>\n",
       "      <td>35</td>\n",
       "      <td>48</td>\n",
       "      <td>70</td>\n",
       "      <td>...</td>\n",
       "      <td>55</td>\n",
       "      <td>25</td>\n",
       "      <td>11</td>\n",
       "      <td>61</td>\n",
       "      <td>44</td>\n",
       "      <td>10</td>\n",
       "      <td>83</td>\n",
       "      <td>70</td>\n",
       "      <td>11</td>\n",
       "      <td>GK</td>\n",
       "    </tr>\n",
       "  </tbody>\n",
       "</table>\n",
       "<p>5 rows × 39 columns</p>\n",
       "</div>"
      ],
      "text/plain": [
       "                Name  Age Nationality  Overall Acceleration Aggression  \\\n",
       "0  Cristiano Ronaldo   32    Portugal       94       89         63       \n",
       "1           L. Messi   30   Argentina       93       92         48       \n",
       "2             Neymar   25      Brazil       92       94         56       \n",
       "3          L. Suárez   30     Uruguay       92       88         78       \n",
       "4           M. Neuer   31     Germany       92       58         29       \n",
       "\n",
       "  Agility Balance Ball_control Composure  ... Short_passing Shot_power  \\\n",
       "0  89      63           93        95      ...        83         94       \n",
       "1  90      95           95        96      ...        88         85       \n",
       "2  96      82           95        92      ...        81         80       \n",
       "3  86      60           91        83      ...        83         87       \n",
       "4  52      35           48        70      ...        55         25       \n",
       "\n",
       "  Sliding_tackle Sprint_speed Stamina Standing_tackle Strength  Vision  \\\n",
       "0         23           91      92              31       80      85       \n",
       "1         26           87      73              28       59      90       \n",
       "2         33           90      78              24       53      80       \n",
       "3         38           77      89              45       80      84       \n",
       "4         11           61      44              10       83      70       \n",
       "\n",
       "  Volleys Preferred_Positions  \n",
       "0  88                  ST LW   \n",
       "1  85                     RW   \n",
       "2  83                     LW   \n",
       "3  88                     ST   \n",
       "4  11                     GK   \n",
       "\n",
       "[5 rows x 39 columns]"
      ]
     },
     "execution_count": 8,
     "metadata": {},
     "output_type": "execute_result"
    }
   ],
   "source": [
    "df.head()"
   ]
  },
  {
   "cell_type": "markdown",
   "metadata": {},
   "source": [
    "### 4 Using Pandas create a view in SQL"
   ]
  },
  {
   "cell_type": "code",
   "execution_count": 10,
   "metadata": {},
   "outputs": [
    {
     "ename": "SyntaxError",
     "evalue": "keyword can't be an expression (<ipython-input-10-f83d68a48931>, line 20)",
     "output_type": "error",
     "traceback": [
      "\u001b[1;36m  File \u001b[1;32m\"<ipython-input-10-f83d68a48931>\"\u001b[1;36m, line \u001b[1;32m20\u001b[0m\n\u001b[1;33m    createview = CreateView('Top23RSASquadPlayers', football_players.select().where(football_players.Nationality='South Africa'))\u001b[0m\n\u001b[1;37m                                                                                   ^\u001b[0m\n\u001b[1;31mSyntaxError\u001b[0m\u001b[1;31m:\u001b[0m keyword can't be an expression\n"
     ]
    }
   ],
   "source": [
    "class CreateView(Executable, ClauseElement):\n",
    "    def __init__(self, name, select):\n",
    "        self.name = name\n",
    "        self.select = select\n",
    "\n",
    "@compiles(CreateView)\n",
    "def visit_create_view(element, compiler, **kw):\n",
    "    return \"CREATE VIEW %s AS %s\" % (\n",
    "         element.name,\n",
    "         compiler.process(element.select, literal_binds=True)\n",
    "         )\n",
    "\n",
    "# import\n",
    "from sqlalchemy import MetaData, Column, Integer\n",
    "from sqlalchemy.engine import create_engine\n",
    "engine = create_engine('sqlite://')\n",
    "metadata = MetaData(engine)\n",
    "\n",
    "# create view\n",
    "createview = CreateView('Top23RSASquadPlayers', football_players.select().where(football_players.Nationality='South Africa'))\n",
    "engine.execute(createview)\n",
    "\n",
    "# reflect view and print result\n",
    "v = Table('Top23RSASquadPlayers', metadata, autoload=True)\n",
    "for r in engine.execute(v.select()):\n",
    "    print (r)"
   ]
  },
  {
   "cell_type": "code",
   "execution_count": null,
   "metadata": {},
   "outputs": [],
   "source": []
  }
 ],
 "metadata": {
  "kernelspec": {
   "display_name": "Python 3",
   "language": "python",
   "name": "python3"
  },
  "language_info": {
   "codemirror_mode": {
    "name": "ipython",
    "version": 3
   },
   "file_extension": ".py",
   "mimetype": "text/x-python",
   "name": "python",
   "nbconvert_exporter": "python",
   "pygments_lexer": "ipython3",
   "version": "3.7.3"
  }
 },
 "nbformat": 4,
 "nbformat_minor": 4
}
